{
 "cells": [
  {
   "cell_type": "code",
   "execution_count": null,
   "metadata": {},
   "outputs": [],
   "source": [
    "import psycopg"
   ]
  },
  {
   "cell_type": "code",
   "execution_count": null,
   "metadata": {},
   "outputs": [],
   "source": [
    "conn= psycopg.connect('''\n",
    "    host= localhost\n",
    "    dbname= Adventureworks\n",
    "    user= postgres\n",
    "    password= 1234\n",
    "''')"
   ]
  },
  {
   "cell_type": "code",
   "execution_count": null,
   "metadata": {},
   "outputs": [],
   "source": [
    "def getAddressById(address, connection):\n",
    "    cur= connection.execute('''\n",
    "            select * from person.address a where a.addressid = %s\n",
    "        ''', (address,))\n",
    "    if not cur.fetchone():\n",
    "        print(f'The address with id {address} dont exists')\n",
    "        return False\n",
    "    return cur.fetchone()"
   ]
  },
  {
   "cell_type": "code",
   "execution_count": null,
   "metadata": {},
   "outputs": [],
   "source": [
    "#getAddressById(0, conn)"
   ]
  },
  {
   "cell_type": "code",
   "execution_count": null,
   "metadata": {},
   "outputs": [],
   "source": [
    "def set_order_header(connection, salesorderid, customerid, billtoaddressid, shiptoaddressid, shipmethodid, subtotal):\n",
    "    try:\n",
    "        cur= connection.execute('''\n",
    "            select * from sales.customer c where c.customerid = %s \n",
    "        ''', (customerid,))\n",
    "        if not cur.fetchone():\n",
    "            print(f'Customer with id {customerid} does not exists.')\n",
    "        else:\n",
    "            if getAddressById(billtoaddressid, conn) != False:\n",
    "                if getAddressById(shiptoaddressid, conn) != False:\n",
    "                    cur= connection.execute('select * from purchasing.shipmethod sm where sm.shipmethodid = %s', (shipmethodid,))\n",
    "                    if not cur.fetchone():\n",
    "                        print(f'Ship method with id {shipmethodid} does not exists')\n",
    "                    else:\n",
    "                        cur= connection.execute('''\n",
    "                            insert into sales.salesorderheader (salesorderid, duedate, customerid, billtoaddressid, shiptoaddressid, shipmethodid, subtotal)\n",
    "                            values\n",
    "                            (%s, NOW(), %s, %s, %s, %s, %s)\n",
    "                        ''', (salesorderid, customerid, billtoaddressid, shiptoaddressid, shipmethodid, subtotal))\n",
    "        return True\n",
    "    except Exception as e:\n",
    "        print(e)\n",
    "        print('can\\'t create order header')\n",
    "        connection.rollback()\n",
    "        return False"
   ]
  },
  {
   "cell_type": "code",
   "execution_count": null,
   "metadata": {},
   "outputs": [],
   "source": [
    "set_order_header(conn, 1, 1, 1, 1, 1)"
   ]
  },
  {
   "cell_type": "code",
   "execution_count": null,
   "metadata": {},
   "outputs": [],
   "source": [
    "def set_order_details(conn, num_items, orderheaderid, orderdetailid, productid, unitprice, orderqty, subtotal, specialofferid= 1):\n",
    "    try:\n",
    "        if unitprice <= 0 or orderqty <= 0:\n",
    "            print('price and quantity must be a positive number')\n",
    "        else:\n",
    "            for i in range(num_items):\n",
    "                cur= conn.execute('select * from sales.salesorderheader soh where soh.salesorderid = %s', (orderheaderid,))\n",
    "                if not cur.fetchone():\n",
    "                    print(f'The order header with id {orderheaderid} does not exists')\n",
    "                else:\n",
    "                    cur= conn.execute('select * from production.product p where p.productid = %s', (productid,))\n",
    "                    if not cur.fetchone():\n",
    "                        print(f'The product with id {productid} does not exists')\n",
    "                    else:\n",
    "                        cur= conn.execute('select * from sales.specialofferproduct sop where sop.specialofferid = %s and sop.productid = %s', (specialofferid,productid))\n",
    "                        specialofferproduct= cur.fetchone()\n",
    "                        if not specialofferproduct:\n",
    "                            print(f'The product with id {productid} has no offer with id {specialofferid}')\n",
    "                        else:\n",
    "                            cur= conn.execute('select so.discountpct from sales.specialoffer so where so.specialofferid = %s', (specialofferproduct[0],))\n",
    "                            unitpricediscount= unitprice*cur.fetchone()[0]\n",
    "                            st= (unitprice-unitpricediscount)*orderqty\n",
    "                            if st == subtotal:\n",
    "                                cur= conn.execute('''\n",
    "                                    insert into sales.salesorderdetail (salesorderid, salesorderdetailid, productid, specialofferid, unitprice, orderqty, unitpricediscount)\n",
    "                                    values (%s, %s, %s, %s, %s, %s, %s)\n",
    "                                ''', (orderheaderid, orderdetailid, productid, specialofferid, unitprice, orderqty, unitpricediscount))\n",
    "                            else:\n",
    "                                print('Subtotal don\\'t match')\n",
    "        return True\n",
    "    except Exception as e:\n",
    "        print(e)\n",
    "        print('can\\'t create order detail')\n",
    "        conn.rollback()\n",
    "        return False"
   ]
  },
  {
   "cell_type": "code",
   "execution_count": null,
   "metadata": {},
   "outputs": [],
   "source": [
    "set_order_details(conn, num_items=1, orderheaderid=1, orderdetailid=1, productid=680, unitprice=1, orderqty=1, specialofferid=1)"
   ]
  },
  {
   "cell_type": "code",
   "execution_count": null,
   "metadata": {},
   "outputs": [],
   "source": [
    "def make_transaction(connection):\n",
    "    try:\n",
    "        salesorderid= input('Enter order header id:')\n",
    "        customerid= input('Enter customer id:')\n",
    "        billtoaddressid= input('Enter bill to address id:')\n",
    "        shiptoaddressid= input('Enter ship to address id:')\n",
    "        shipmethodid= input('Enter ship method id:')\n",
    "        subtotal= int(input('Enter the subtotal'))\n",
    "        if set_order_header(connection= connection, salesorderid= salesorderid, customerid= customerid, billtoaddressid= billtoaddressid, shiptoaddressid= shiptoaddressid, shipmethodid= shipmethodid, subtotal= subtotal):\n",
    "            num_items= int(input('Enter the numbers of order details to create'))\n",
    "            orderdetailid= input('Enter the order detail id')\n",
    "            productid= input('Enter the product id')\n",
    "            unitprice= int(input('Enter the price of the product'))\n",
    "            orderqty= int(input('Enter the numbers of products'))\n",
    "            specialofferid= input('Enter the special offer id')\n",
    "            if set_order_details(conn= connection, num_items= num_items, orderheaderid= salesorderid, orderdetailid= orderdetailid, productid= productid, unitprice= unitprice, orderqty= orderqty, specialofferid= specialofferid, subtotal= subtotal):\n",
    "                connection.commit()\n",
    "    except Exception as e:\n",
    "        print(e)\n",
    "        print('can\\'t make the transaction')\n",
    "        connection.rollback()"
   ]
  },
  {
   "cell_type": "code",
   "execution_count": null,
   "metadata": {},
   "outputs": [],
   "source": [
    "make_transaction(connection= conn)"
   ]
  },
  {
   "cell_type": "code",
   "execution_count": null,
   "metadata": {},
   "outputs": [],
   "source": [
    "conn.close()"
   ]
  }
 ],
 "metadata": {
  "interpreter": {
   "hash": "9eca0025d2e3fdcb5f22352126e07fa21b222414274482a8fc6f51ec2f703f1c"
  },
  "kernelspec": {
   "display_name": "Python 3.9.7 ('base')",
   "language": "python",
   "name": "python3"
  },
  "language_info": {
   "codemirror_mode": {
    "name": "ipython",
    "version": 3
   },
   "file_extension": ".py",
   "mimetype": "text/x-python",
   "name": "python",
   "nbconvert_exporter": "python",
   "pygments_lexer": "ipython3",
   "version": "3.10.2"
  },
  "orig_nbformat": 4
 },
 "nbformat": 4,
 "nbformat_minor": 2
}
